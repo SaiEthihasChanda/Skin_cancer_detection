{
 "cells": [
  {
   "cell_type": "code",
   "execution_count": 1,
   "id": "ec96b838-18cf-4a2c-982a-c87bdc1eef20",
   "metadata": {},
   "outputs": [],
   "source": [
    "#pip install lightgbm\n"
   ]
  },
  {
   "cell_type": "code",
   "execution_count": 2,
   "id": "07b99702-edc0-4b4d-9d20-6b5afc8de398",
   "metadata": {},
   "outputs": [],
   "source": [
    "import joblib\n",
    "import pandas as pd\n",
    "import threading\n",
    "import lightgbm as lgb\n",
    "from sklearn.model_selection import train_test_split\n",
    "from sklearn.preprocessing import StandardScaler"
   ]
  },
  {
   "cell_type": "code",
   "execution_count": null,
   "id": "715d6856-b72b-4b0b-974e-ff79a3d86706",
   "metadata": {},
   "outputs": [],
   "source": [
    "data = pd.read_csv(\"DatasetInitalComplete.csv\", low_memory=False)\n",
    "data = data.drop([\"7\",\"10\",\"11\",\"13\",\"14\"],axis = 1)"
   ]
  },
  {
   "cell_type": "code",
   "execution_count": null,
   "id": "c08effdc-9587-4f30-b582-888121a46b76",
   "metadata": {},
   "outputs": [],
   "source": [
    "data.shape"
   ]
  },
  {
   "cell_type": "code",
   "execution_count": null,
   "id": "0816792e-8087-46b0-9bbf-e18bc136e802",
   "metadata": {
    "scrolled": true
   },
   "outputs": [],
   "source": [
    "data"
   ]
  },
  {
   "cell_type": "code",
   "execution_count": null,
   "id": "4c1b8639-dd25-4854-a41d-bdc4432405e8",
   "metadata": {},
   "outputs": [],
   "source": [
    "data.columns"
   ]
  },
  {
   "cell_type": "code",
   "execution_count": null,
   "id": "0a6841ca-69b2-4b01-ac46-eb4cf857361c",
   "metadata": {},
   "outputs": [],
   "source": [
    "non_numerical_columns = data.select_dtypes(exclude=['number']).columns\n",
    "\n",
    "# Convert to a list if needed\n",
    "non_numerical_columns_list = list(non_numerical_columns)\n",
    "\n",
    "print(non_numerical_columns_list)"
   ]
  },
  {
   "cell_type": "code",
   "execution_count": null,
   "id": "20b26e74-c9ae-449f-bc18-5965905d7684",
   "metadata": {},
   "outputs": [],
   "source": [
    "from sklearn import preprocessing\n",
    "le = preprocessing.LabelEncoder()"
   ]
  },
  {
   "cell_type": "code",
   "execution_count": null,
   "id": "890fc6e6-3ee7-4baf-9ee1-6621d9cbfa9c",
   "metadata": {},
   "outputs": [],
   "source": [
    "from sklearn import preprocessing\n",
    "le = preprocessing.LabelEncoder()"
   ]
  },
  {
   "cell_type": "code",
   "execution_count": null,
   "id": "a3c7e839-8d6a-42de-9268-6be1466b9628",
   "metadata": {},
   "outputs": [],
   "source": [
    "import pickle\n",
    "\n",
    "data_new = data\n",
    "data1 = {}\n",
    "save_file = open(\"cases.dat\", \"wb\")\n",
    "\n",
    "for j in non_numerical_columns_list:\n",
    "    a = list(set(list(data_new[j])))\n",
    "    index = 0\n",
    "    dic = {}\n",
    "    for i in a:\n",
    "        dic[i] = index\n",
    "        index += 1\n",
    "\n",
    "    data1[j] = dic\n",
    "\n",
    "pickle.dump(data1, save_file)\n",
    "save_file.close()"
   ]
  },
  {
   "cell_type": "code",
   "execution_count": null,
   "id": "9c3f920f-6ffc-4f03-a285-6ba2362e450f",
   "metadata": {},
   "outputs": [],
   "source": [
    "data_file = open(\"cases.dat\", \"rb\")\n",
    "cases = pickle.load(data_file)\n",
    "type(cases)\n",
    "data_file.close()"
   ]
  },
  {
   "cell_type": "code",
   "execution_count": null,
   "id": "44e85e58-467b-427d-92c0-22a200d6a511",
   "metadata": {},
   "outputs": [],
   "source": [
    "for i in cases:\n",
    "    for j in cases[i]:\n",
    "        data_new[i] = data_new[i].replace(j, cases[i][j])\n",
    "        "
   ]
  },
  {
   "cell_type": "code",
   "execution_count": null,
   "id": "c4b90dc8-da1a-471c-93ba-72d4c390c435",
   "metadata": {},
   "outputs": [],
   "source": [
    "classes = []\n",
    "for column in non_numerical_columns_list:\n",
    "    data[column] = le.fit_transform(data[column])\n",
    "    print(le.classes_)\n",
    "    classes.append(le.classes_)"
   ]
  },
  {
   "cell_type": "code",
   "execution_count": null,
   "id": "cbeeef52-e6ca-44d1-b838-e3293e5d0e5e",
   "metadata": {},
   "outputs": [],
   "source": [
    "import pickle\n",
    "data_file = open(\"cases.dat\", \"rb\")\n",
    "cases = pickle.load(data_file)\n",
    "type(cases)\n",
    "data_file.close()"
   ]
  },
  {
   "cell_type": "code",
   "execution_count": null,
   "id": "ceebad58-4ded-42bb-992c-0c4208352d0b",
   "metadata": {},
   "outputs": [],
   "source": [
    "for i in cases:\n",
    "    for j in cases[i]:\n",
    "        data_new[i] = data_new[i].replace(j, cases[i][j])"
   ]
  },
  {
   "cell_type": "code",
   "execution_count": null,
   "id": "5754fb31-2493-4d79-a1a2-29483f3549c0",
   "metadata": {},
   "outputs": [],
   "source": [
    "data_new"
   ]
  },
  {
   "cell_type": "code",
   "execution_count": null,
   "id": "18d579f7-84a3-45da-b5cc-de54c72b9a75",
   "metadata": {},
   "outputs": [],
   "source": [
    "df_sorted = data.sort_values(by='target',ascending = False)\n",
    "df_target_1 = data[data['target'] == 1]\n",
    "df_target_0 = data[data['target'] == 0]\n",
    "\n",
    "#df_target_0[:392]\n",
    "batch1 = pd.concat([df_target_1, df_target_0[:]], ignore_index=True)\n",
    "batch1\n"
   ]
  },
  {
   "cell_type": "code",
   "execution_count": null,
   "id": "c14a9e64-5e74-4f83-a0fa-2e5e9fb64e68",
   "metadata": {},
   "outputs": [],
   "source": [
    "#pip install matplotlib"
   ]
  },
  {
   "cell_type": "code",
   "execution_count": null,
   "id": "ac791c20-ed3b-4818-afd2-33f1dae470d7",
   "metadata": {},
   "outputs": [],
   "source": [
    "correlation_matrix = batch1.corr()\n",
    "import matplotlib.pyplot as plt\n",
    "plt.matshow(correlation_matrix, cmap='viridis')\n",
    "plt.show()\n"
   ]
  },
  {
   "cell_type": "code",
   "execution_count": null,
   "id": "760f588a-e572-468e-9025-91fcdc3f6ade",
   "metadata": {},
   "outputs": [],
   "source": [
    "correlated_pairs = []\n",
    "threshold = 0.95\n",
    "for i in range(len(correlation_matrix.columns)):\n",
    "    for j in range(i):\n",
    "        if ((correlation_matrix.iloc[i, j]) > threshold):\n",
    "            colname1 = correlation_matrix.columns[i]\n",
    "            colname2 = correlation_matrix.columns[j]\n",
    "            correlated_pairs.append((colname1, colname2, correlation_matrix.iloc[i, j]))\n",
    "\n",
    "# Print the correlated pairs\n",
    "print(\"Pairs of columns with correlation above threshold:\")\n",
    "print(len(correlated_pairs))\n",
    "for pair in correlated_pairs:\n",
    "    print(f\"Columns: {pair[0]} and {pair[1]} with correlation: {pair[2]:.2f}\")"
   ]
  },
  {
   "cell_type": "code",
   "execution_count": null,
   "id": "734bf839-900f-482b-8916-ff8cbbbede68",
   "metadata": {},
   "outputs": [],
   "source": [
    "train_set, test_set = train_test_split(batch1, test_size=0.1, stratify=batch1['target'], random_state=42)\n",
    "scaler = StandardScaler()\n",
    "X_train = train_set.drop(columns=['target'])\n",
    "y_train = train_set['target']\n",
    "X_test = test_set.drop(columns=['target'])\n",
    "y_test = test_set['target']\n",
    "X_train = scaler.fit_transform(X_train)\n",
    "X_test = scaler.transform(X_test)"
   ]
  },
  {
   "cell_type": "code",
   "execution_count": null,
   "id": "c20c2dc7-32fc-4687-8e1f-697e1de613ec",
   "metadata": {},
   "outputs": [],
   "source": [
    "from sklearn.metrics import accuracy_score, confusion_matrix"
   ]
  },
  {
   "cell_type": "code",
   "execution_count": null,
   "id": "54574072-df06-4d36-9a68-d5df2fb98d23",
   "metadata": {
    "scrolled": true
   },
   "outputs": [],
   "source": [
    "tprsacc = []\n",
    "final_predict_data = data.drop([\"target\"],axis=1)\n",
    "\n",
    "def trainer(number,batch):\n",
    "    #print(pd.DataFrame(batch))\n",
    "    print(number)\n",
    "    scaler = StandardScaler()\n",
    "\n",
    "    train_set, test_set = train_test_split(batch, test_size=0.2, stratify=batch['target'], random_state=42)\n",
    "    X_train = train_set.drop(columns=['target'])\n",
    "    y_train = train_set['target']\n",
    "    X_test = test_set.drop(columns=['target'])\n",
    "    y_test = test_set['target']\n",
    "    X_train = scaler.fit_transform(X_train)\n",
    "    X_test = scaler.transform(X_test)\n",
    "    \n",
    "    model = lgb.LGBMClassifier(verbose=-1)\n",
    "    model.fit(X_train, y_train)\n",
    "    #print(\"model\"+str(number))\n",
    "    name = \"model\" + str(number) + \".joblib\"\n",
    "    \n",
    "    predictions = model.predict(X_test)\n",
    "    tn, fp, fn, tp = confusion_matrix(y_test, predictions).ravel()\n",
    "    accuracy = accuracy_score(y_test,predictions)\n",
    "    tprsacc.append((tp/(tp+fn),accuracy))\n",
    "\n",
    "    joblib.dump(model, name)\n",
    "    \n",
    "    #predictions = model.predict(X_test)\n",
    "    #tn, fp, fn, tp = confusion_matrix(y_test, predictions).ravel()\n",
    "    \n",
    "    #accuracy = accuracy_score(y_test,predictions)\n",
    "    #print(\"model number\"+str(i)+\" true positives: \"+str(tp/(tp+fn)))\n",
    "    #print(\"model number\"+str(i)+\" accuracu: \"+str(accuracy))\n",
    "    \n",
    "    \n",
    "    # Make predictions and evaluate\n",
    "    \n",
    "    "
   ]
  },
  {
   "cell_type": "code",
   "execution_count": null,
   "id": "2746cb69-eeca-4001-8e20-0ba8383900c3",
   "metadata": {},
   "outputs": [],
   "source": [
    "threads = []\n",
    "import time\n",
    "\n",
    "start_time = time.time()\n",
    "\n",
    "for i in range(0,1018):\n",
    "    batch = batch1 = pd.concat([df_target_1, df_target_0[i*392:(i*392)+392]], ignore_index=True)\n",
    "       \n",
    "    thread = threading.Thread(target=trainer, args=(i,batch))\n",
    "    threads.append(thread)\n",
    "    thread.start()\n",
    "end_time = time.time()\n",
    "total_time = end_time - start_time\n",
    "total_time\n",
    "#batch"
   ]
  },
  {
   "cell_type": "code",
   "execution_count": null,
   "id": "27b53524-6a0e-424c-958a-857276e247cc",
   "metadata": {},
   "outputs": [],
   "source": [
    "tprsacc "
   ]
  },
  {
   "cell_type": "code",
   "execution_count": null,
   "id": "c3867d6a-8b2c-4f3c-b76e-5730cbc534e2",
   "metadata": {},
   "outputs": [],
   "source": [
    "def st(k):\n",
    "    return k[1]\n",
    "trial = tprsacc.sort(key =st )\n",
    "print(trial)"
   ]
  },
  {
   "cell_type": "code",
   "execution_count": null,
   "id": "9668a24c-17fe-4c86-81e7-ef7bb20d8389",
   "metadata": {},
   "outputs": [],
   "source": []
  }
 ],
 "metadata": {
  "kernelspec": {
   "display_name": "Python 3 (ipykernel)",
   "language": "python",
   "name": "python3"
  },
  "language_info": {
   "codemirror_mode": {
    "name": "ipython",
    "version": 3
   },
   "file_extension": ".py",
   "mimetype": "text/x-python",
   "name": "python",
   "nbconvert_exporter": "python",
   "pygments_lexer": "ipython3",
   "version": "3.12.4"
  }
 },
 "nbformat": 4,
 "nbformat_minor": 5
}
