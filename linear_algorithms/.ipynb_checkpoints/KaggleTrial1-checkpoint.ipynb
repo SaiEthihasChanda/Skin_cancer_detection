{
  "cells": [
    {
      "cell_type": "code",
      "execution_count": 1,
      "id": "d94332ce",
      "metadata": {
        "tags": [],
        "id": "d94332ce"
      },
      "outputs": [],
      "source": [
        "import numpy as np\n",
        "import pandas as pd\n",
        "import torch\n",
        "import torch.nn as nn\n",
        "import torch.optim as optim\n",
        "from torch.utils.data import DataLoader, TensorDataset\n",
        "from sklearn.model_selection import train_test_split\n",
        "from sklearn.preprocessing import MinMaxScaler\n",
        "from sklearn.metrics import confusion_matrix\n",
        "import matplotlib.pyplot as plt"
      ]
    },
    {
      "cell_type": "code",
      "execution_count": 4,
      "id": "9878a99c-d0a1-490a-b3d8-f75e59da5851",
      "metadata": {
        "tags": [],
        "colab": {
          "base_uri": "https://localhost:8080/"
        },
        "id": "9878a99c-d0a1-490a-b3d8-f75e59da5851",
        "outputId": "f1788725-d9a2-48ae-b822-6f2f936675c8"
      },
      "outputs": [
        {
          "output_type": "execute_result",
          "data": {
            "text/plain": [
              "Index(['target', 'age_approx', 'sex', 'anatom_site_general',\n",
              "       'clin_size_long_diam_mm', 'tbp_lv_A', 'tbp_lv_Aext', 'tbp_lv_B',\n",
              "       'tbp_lv_Bext', 'tbp_lv_C', 'tbp_lv_Cext', 'tbp_lv_H', 'tbp_lv_Hext',\n",
              "       'tbp_lv_L', 'tbp_lv_Lext', 'tbp_lv_areaMM2', 'tbp_lv_area_perim_ratio',\n",
              "       'tbp_lv_color_std_mean', 'tbp_lv_deltaA', 'tbp_lv_deltaB',\n",
              "       'tbp_lv_deltaL', 'tbp_lv_deltaLB', 'tbp_lv_deltaLBnorm',\n",
              "       'tbp_lv_eccentricity', 'tbp_lv_location', 'tbp_lv_location_simple',\n",
              "       'tbp_lv_minorAxisMM', 'tbp_lv_nevi_confidence', 'tbp_lv_norm_border',\n",
              "       'tbp_lv_norm_color', 'tbp_lv_perimeterMM',\n",
              "       'tbp_lv_radial_color_std_max', 'tbp_lv_stdL', 'tbp_lv_stdLExt',\n",
              "       'tbp_lv_symm_2axis', 'tbp_lv_symm_2axis_angle', 'tbp_lv_x', 'tbp_lv_y',\n",
              "       'tbp_lv_z', 'mel_mitotic_index', 'mel_thick_mm',\n",
              "       'tbp_lv_dnn_lesion_confidence'],\n",
              "      dtype='object')"
            ]
          },
          "metadata": {},
          "execution_count": 4
        }
      ],
      "source": [
        "df = pd.read_csv('DatasetInitalComplete - Copy.csv')\n",
        "df.columns"
      ]
    },
    {
      "cell_type": "code",
      "execution_count": 5,
      "id": "3bff362f-a6a8-4044-b6ed-3036f1b02663",
      "metadata": {
        "scrolled": true,
        "tags": [],
        "colab": {
          "base_uri": "https://localhost:8080/"
        },
        "id": "3bff362f-a6a8-4044-b6ed-3036f1b02663",
        "outputId": "f86170e9-30e5-4e17-f653-87d8ed747ada"
      },
      "outputs": [
        {
          "output_type": "stream",
          "name": "stdout",
          "text": [
            "392 17158\n",
            "     target  age_approx  sex  anatom_site_general  clin_size_long_diam_mm  \\\n",
            "0         1        80.0    2                    2                    9.27   \n",
            "1         1        75.0    0                    1                    3.88   \n",
            "2         1        80.0    0                    2                    6.55   \n",
            "3         1        60.0    0                    0                    5.27   \n",
            "4         1        55.0    0                    3                    5.29   \n",
            "..      ...         ...  ...                  ...                     ...   \n",
            "387       1        70.0    2                    3                    5.13   \n",
            "388       1        50.0    2                    3                    8.16   \n",
            "389       1        60.0    2                    3                    5.65   \n",
            "390       1        60.0    0                    4                    8.51   \n",
            "391       1        65.0    2                    4                   12.08   \n",
            "\n",
            "      tbp_lv_A  tbp_lv_Aext   tbp_lv_B  tbp_lv_Bext   tbp_lv_C  ...  \\\n",
            "0    18.093367    13.054772  19.090458    21.211776  26.302386  ...   \n",
            "1    26.187010    21.394010  25.553420    24.914770  36.588750  ...   \n",
            "2    33.480140    24.249430  26.160100    25.295430  42.488470  ...   \n",
            "3    25.872050    20.194650  26.805590    28.459890  37.254570  ...   \n",
            "4    30.966662    22.008635  24.066940    26.734379  39.219278  ...   \n",
            "..         ...          ...        ...          ...        ...  ...   \n",
            "387  24.068933    18.656887  28.149071    29.237257  37.036249  ...   \n",
            "388  17.351658    11.348823  23.910937    24.652597  29.543408  ...   \n",
            "389  21.990980    14.083370  34.254300    33.717530  40.705780  ...   \n",
            "390  19.003400    11.828330  21.741510    23.470120  28.875990  ...   \n",
            "391  23.465230    18.400280  17.359240    20.595300  29.188360  ...   \n",
            "\n",
            "     tbp_lv_stdL  tbp_lv_stdLExt  tbp_lv_symm_2axis  tbp_lv_symm_2axis_angle  \\\n",
            "0       5.464301        2.717044           0.472358                      0.0   \n",
            "1       1.604156        2.798056           0.576744                     15.0   \n",
            "2       1.539307        3.697858           0.546485                    155.0   \n",
            "3       2.575811        2.600541           0.428889                    160.0   \n",
            "4       4.122797        3.134399           0.422091                     65.0   \n",
            "..           ...             ...                ...                      ...   \n",
            "387     4.740963        3.234085           0.286334                    145.0   \n",
            "388     3.608785        1.910770           0.256480                    165.0   \n",
            "389     1.041683        1.945723           0.292531                    140.0   \n",
            "390     5.966068        2.845118           0.461798                    175.0   \n",
            "391     3.818278        2.006672           0.163862                     20.0   \n",
            "\n",
            "       tbp_lv_x     tbp_lv_y   tbp_lv_z  mel_mitotic_index  mel_thick_mm  \\\n",
            "0     61.956005  1180.003540 -77.904053                7.0           NaN   \n",
            "1     54.423520  1675.860000 -37.749880                7.0           NaN   \n",
            "2     84.834820  1441.758000 -60.321040                7.0           NaN   \n",
            "3    293.127500  1425.201000  50.789730                7.0           NaN   \n",
            "4   -128.599152  1481.198364  13.294312                7.0           NaN   \n",
            "..          ...          ...        ...                ...           ...   \n",
            "387 -166.705078  1391.000366  32.646973                7.0           NaN   \n",
            "388 -140.668518  1112.529053  96.400574                7.0           NaN   \n",
            "389   63.765810  1252.122000  72.269710                7.0           NaN   \n",
            "390  -72.287600   622.391700  82.021270                7.0           NaN   \n",
            "391 -102.059400   518.162400  48.836550                6.0           0.6   \n",
            "\n",
            "     tbp_lv_dnn_lesion_confidence  \n",
            "0                       72.211683  \n",
            "1                       94.559590  \n",
            "2                       66.196170  \n",
            "3                       99.991270  \n",
            "4                       99.960846  \n",
            "..                            ...  \n",
            "387                     99.969721  \n",
            "388                     99.197656  \n",
            "389                     99.985530  \n",
            "390                     86.048290  \n",
            "391                     99.786690  \n",
            "\n",
            "[392 rows x 42 columns]\n",
            "       target  age_approx  sex  anatom_site_general  clin_size_long_diam_mm  \\\n",
            "392         0        60.0    0                    4                    3.04   \n",
            "393         0        60.0    0                    1                    1.10   \n",
            "394         0        60.0    0                    3                    3.40   \n",
            "395         0        65.0    0                    2                    3.22   \n",
            "396         0        55.0    0                    2                    2.73   \n",
            "...       ...         ...  ...                  ...                     ...   \n",
            "17545       0        55.0    2                    1                    3.30   \n",
            "17546       0        80.0    0                    0                    3.00   \n",
            "17547       0        55.0    0                    0                    4.36   \n",
            "17548       0        40.0    2                    4                    2.70   \n",
            "17549       0        60.0    0                    0                    2.97   \n",
            "\n",
            "        tbp_lv_A  tbp_lv_Aext   tbp_lv_B  tbp_lv_Bext   tbp_lv_C  ...  \\\n",
            "392    20.244422    16.261975  26.922447    23.954773  33.684638  ...   \n",
            "393    31.712570    25.364740  26.331000    24.549290  41.219030  ...   \n",
            "394    22.575830    17.128170  37.970460    33.485410  44.174920  ...   \n",
            "395    14.242329    12.164757  21.448144    21.121356  25.746200  ...   \n",
            "396    24.725520    20.057470  26.464900    25.710460  36.217980  ...   \n",
            "...          ...          ...        ...          ...        ...  ...   \n",
            "17545  24.526017    19.249313  33.323570    29.911240  41.376150  ...   \n",
            "17546  15.200950    13.627360  17.719130    17.566390  23.346020  ...   \n",
            "17547  15.293230    16.441150  21.704547    26.943706  26.551276  ...   \n",
            "17548  22.640600    18.421300  28.203730    28.652960  36.166930  ...   \n",
            "17549  23.395124    20.300767  29.824967    30.461500  37.905943  ...   \n",
            "\n",
            "       tbp_lv_stdL  tbp_lv_stdLExt  tbp_lv_symm_2axis  \\\n",
            "392       2.036195        2.637780           0.590476   \n",
            "393       0.853227        3.912844           0.285714   \n",
            "394       1.743651        1.950777           0.361905   \n",
            "395       1.258541        1.573733           0.209581   \n",
            "396       2.085409        2.480509           0.313433   \n",
            "...            ...             ...                ...   \n",
            "17545     1.555192        1.609511           0.393939   \n",
            "17546     1.114929        1.638302           0.572650   \n",
            "17547     1.440062        1.888665           0.188235   \n",
            "17548     2.239020        1.640468           0.273585   \n",
            "17549          NaN             NaN                NaN   \n",
            "\n",
            "       tbp_lv_symm_2axis_angle    tbp_lv_x     tbp_lv_y    tbp_lv_z  \\\n",
            "392                       85.0 -182.703552   613.493652  -42.427948   \n",
            "393                       55.0   -0.078308  1575.687000   57.174500   \n",
            "394                      105.0  123.649700  1472.010000  232.908900   \n",
            "395                      130.0 -141.024780  1442.185791   58.359802   \n",
            "396                       20.0  -72.315640  1488.720000   21.428960   \n",
            "...                        ...         ...          ...         ...   \n",
            "17545                    125.0  -72.193787  1358.417236  -16.749939   \n",
            "17546                    120.0  366.731600  1049.348000    6.570862   \n",
            "17547                     95.0  280.169434  1335.076904  156.103882   \n",
            "17548                     20.0  -83.852290   662.771600  -39.652590   \n",
            "17549                      NaN         NaN          NaN         NaN   \n",
            "\n",
            "       mel_mitotic_index  mel_thick_mm  tbp_lv_dnn_lesion_confidence  \n",
            "392                  7.0           NaN                     97.517282  \n",
            "393                  7.0           NaN                      3.141455  \n",
            "394                  7.0           NaN                     99.804040  \n",
            "395                  7.0           NaN                     99.989998  \n",
            "396                  7.0           NaN                     70.442510  \n",
            "...                  ...           ...                           ...  \n",
            "17545                7.0           NaN                     99.999976  \n",
            "17546                7.0           NaN                     54.467390  \n",
            "17547                7.0           NaN                     94.842303  \n",
            "17548                7.0           NaN                     99.999920  \n",
            "17549                NaN           NaN                           NaN  \n",
            "\n",
            "[17158 rows x 42 columns]\n"
          ]
        }
      ],
      "source": [
        "df.sort_values(by='target', ascending = False)\n",
        "positives = df[df['target']==1]\n",
        "negatives = df[df['target']==0]\n",
        "print(len(positives),len(negatives))\n",
        "print(positives)\n",
        "print(negatives)"
      ]
    },
    {
      "cell_type": "code",
      "execution_count": 6,
      "id": "24bb424c-d08c-473a-bbef-c6c93dd2bd8f",
      "metadata": {
        "tags": [],
        "colab": {
          "base_uri": "https://localhost:8080/"
        },
        "id": "24bb424c-d08c-473a-bbef-c6c93dd2bd8f",
        "outputId": "1589c4f0-481f-4a5f-8ed0-9658d103a24f"
      },
      "outputs": [
        {
          "output_type": "stream",
          "name": "stdout",
          "text": [
            "(892, 39) (892,)\n"
          ]
        }
      ],
      "source": [
        "data = pd.concat([positives,negatives[0:500]])\n",
        "labels = data['target']\n",
        "data = data.drop(columns=['target','age_approx','mel_thick_mm'])\n",
        "scaler = MinMaxScaler()\n",
        "data = scaler.fit_transform(data)\n",
        "print(data.shape,labels.shape)"
      ]
    },
    {
      "cell_type": "code",
      "execution_count": 7,
      "id": "243197da-c87c-42d0-b7b7-25379bc50040",
      "metadata": {
        "tags": [],
        "colab": {
          "base_uri": "https://localhost:8080/"
        },
        "id": "243197da-c87c-42d0-b7b7-25379bc50040",
        "outputId": "ed069f34-525f-4d23-9e01-afe3ad15a358"
      },
      "outputs": [
        {
          "output_type": "stream",
          "name": "stdout",
          "text": [
            "age_approx                       0.632479\n",
            "tbp_lv_eccentricity              0.005698\n",
            "tbp_lv_location                  0.005698\n",
            "tbp_lv_location_simple           0.005698\n",
            "tbp_lv_minorAxisMM               0.005698\n",
            "tbp_lv_nevi_confidence           0.005698\n",
            "tbp_lv_norm_border               0.005698\n",
            "tbp_lv_norm_color                0.005698\n",
            "tbp_lv_perimeterMM               0.005698\n",
            "tbp_lv_radial_color_std_max      0.005698\n",
            "tbp_lv_stdL                      0.005698\n",
            "tbp_lv_stdLExt                   0.005698\n",
            "tbp_lv_symm_2axis                0.005698\n",
            "tbp_lv_symm_2axis_angle          0.005698\n",
            "tbp_lv_x                         0.005698\n",
            "tbp_lv_y                         0.005698\n",
            "tbp_lv_z                         0.005698\n",
            "mel_mitotic_index                0.005698\n",
            "mel_thick_mm                    99.641026\n",
            "tbp_lv_dnn_lesion_confidence     0.005698\n",
            "dtype: float64\n"
          ]
        }
      ],
      "source": [
        "import pandas as pd\n",
        "\n",
        "# Assuming df is your DataFrame\n",
        "nan_percentage = df.isnull().mean() * 100\n",
        "\n",
        "# Display only columns with NaN values and their percentages\n",
        "columns_with_nan_percentage = nan_percentage[nan_percentage > 0]\n",
        "print(columns_with_nan_percentage)\n"
      ]
    },
    {
      "cell_type": "code",
      "execution_count": 8,
      "id": "0c0d32f4-93a3-480d-8ed1-ac318cbf8d7b",
      "metadata": {
        "tags": [],
        "id": "0c0d32f4-93a3-480d-8ed1-ac318cbf8d7b"
      },
      "outputs": [],
      "source": [
        "X_train, X_test, y_train, y_test = train_test_split(np.array(data), np.array(labels), test_size=0.2, random_state=42)\n",
        "\n",
        "# Convert the data to PyTorch tensors\n",
        "X_train = torch.tensor(X_train, dtype=torch.float32)\n",
        "y_train = torch.tensor(y_train, dtype=torch.float32).unsqueeze(1)  # Add an extra dimension for the output\n",
        "X_test = torch.tensor(X_test, dtype=torch.float32)\n",
        "y_test = torch.tensor(y_test, dtype=torch.long).unsqueeze(1)\n",
        "\n",
        "# Create PyTorch DataLoader for efficient batch processing\n",
        "train_dataset = TensorDataset(X_train, y_train)\n",
        "train_loader = DataLoader(train_dataset, shuffle=True)\n",
        "\n",
        "test_dataset = TensorDataset(X_test, y_test)\n",
        "test_loader = DataLoader(test_dataset, shuffle=True)"
      ]
    },
    {
      "cell_type": "code",
      "execution_count": 9,
      "id": "28d1bdaf-ba29-4db1-97ce-097032892c40",
      "metadata": {
        "tags": [],
        "id": "28d1bdaf-ba29-4db1-97ce-097032892c40"
      },
      "outputs": [],
      "source": [
        "class ANN(nn.Module):\n",
        "    def __init__(self,units):\n",
        "        super(ANN,self).__init__()\n",
        "        self.l1 = nn.Linear(units,units)\n",
        "        #self.l2 = nn.Linear(3*units,2*units)\n",
        "        #self.l3 = nn.Linear(2*units,units)\n",
        "        self.l4 = nn.Linear(units,1)\n",
        "        self.relu = nn.ReLU()\n",
        "        self.lrelu = nn.LeakyReLU()\n",
        "        self.sigmoid = nn.Sigmoid()\n",
        "        self.softmax = nn.Softmax()\n",
        "    def forward(self,x):\n",
        "        x = self.l1(x)\n",
        "        x = self.lrelu(x)\n",
        "        #x = self.lrelu(self.l2(x))\n",
        "        #x = self.lrelu(self.l3(x))\n",
        "        x = self.sigmoid(self.l4(x))\n",
        "        return torch.round(x)"
      ]
    },
    {
      "cell_type": "code",
      "execution_count": 11,
      "id": "4986684a-59ae-431e-9ce5-319dcc5bbb94",
      "metadata": {
        "tags": [],
        "colab": {
          "base_uri": "https://localhost:8080/"
        },
        "id": "4986684a-59ae-431e-9ce5-319dcc5bbb94",
        "outputId": "e7bcc6f4-e1e2-418c-da74-4554726fb7d1",
        "collapsed": true
      },
      "outputs": [
        {
          "output_type": "stream",
          "name": "stdout",
          "text": [
            "Epoch 1/10, Loss: 44.3198\n",
            "Epoch 2/10, Loss: 44.3198\n",
            "Epoch 3/10, Loss: 44.3198\n",
            "Epoch 4/10, Loss: 44.3198\n",
            "Epoch 5/10, Loss: 44.3198\n",
            "Epoch 6/10, Loss: 44.3198\n",
            "Epoch 7/10, Loss: 44.3198\n",
            "Epoch 8/10, Loss: 44.3198\n",
            "Epoch 9/10, Loss: 44.3198\n",
            "Epoch 10/10, Loss: 44.3198\n"
          ]
        },
        {
          "output_type": "execute_result",
          "data": {
            "text/plain": [
              "array([[0., 0., 0., ..., 0., 0., 0.],\n",
              "       [0., 0., 0., ..., 0., 0., 0.],\n",
              "       [0., 0., 0., ..., 0., 0., 0.],\n",
              "       ...,\n",
              "       [0., 0., 0., ..., 0., 0., 0.],\n",
              "       [0., 0., 0., ..., 0., 0., 0.],\n",
              "       [0., 0., 0., ..., 0., 0., 0.]], dtype=float32)"
            ]
          },
          "metadata": {},
          "execution_count": 11
        }
      ],
      "source": [
        "loss_fn=nn.BCELoss()\n",
        "model = ANN(units=39)\n",
        "optimizer=optim.SGD(model.parameters(),lr=0.008)\n",
        "device=torch.device( \"cpu\")\n",
        "model.to(device)\n",
        "eval_losses=[]\n",
        "eval_accu=[]\n",
        "\n",
        "def test(epoch):\n",
        "    model.eval()\n",
        "    running_loss=0\n",
        "    correct=0\n",
        "    total=0\n",
        "    with torch.no_grad():\n",
        "        for data in (test_loader):\n",
        "            inputs,labels=data[0].to(device),data[1].to(device)\n",
        "            outputs=model(inputs)\n",
        "            loss= loss_fn(outputs,labels)\n",
        "            running_loss+=loss.item()\n",
        "            _, predicted = outputs.max(1)\n",
        "            total += labels.size(0)\n",
        "            correct += predicted.eq(labels).sum().item()\n",
        "    test_loss=running_loss/len(test_loader)\n",
        "    accu=correct/total\n",
        "    eval_losses.append(test_loss)\n",
        "    eval_accu.append(accu)\n",
        "    print('Test Loss: %.3f | Accuracy: %.3f'%(test_loss,accu))\n",
        "\n",
        "# Train the model and capture gradient information\n",
        "epochs = 10\n",
        "gradients = []\n",
        "\n",
        "for epoch in range(epochs):\n",
        "    model.train()\n",
        "    running_loss = 0.0\n",
        "\n",
        "    for inputs, labels in train_loader:\n",
        "        optimizer.zero_grad()\n",
        "\n",
        "        # Forward pass\n",
        "        outputs = model(inputs)\n",
        "        loss = loss_fn(outputs, labels)\n",
        "\n",
        "        # Backward pass and optimization\n",
        "        loss.backward()\n",
        "\n",
        "        # Capture the gradient of the first layer's weights\n",
        "        gradients.append(model.l1.weight.grad.clone().detach().numpy())\n",
        "\n",
        "        optimizer.step()\n",
        "\n",
        "        running_loss += loss.item()\n",
        "\n",
        "    # Print the average loss for each epoch\n",
        "    print(f\"Epoch {epoch + 1}/{epochs}, Loss: {running_loss / len(train_loader):.4f}\")\n",
        "\n",
        "# Gradient values after each epoch\n",
        "gradients[-1]  # Showing the last gradient value for the first layer after the final epoch"
      ]
    },
    {
      "cell_type": "code",
      "execution_count": null,
      "id": "dcb97ecc-0441-454e-834a-c46697e490c5",
      "metadata": {
        "tags": [],
        "colab": {
          "base_uri": "https://localhost:8080/"
        },
        "id": "dcb97ecc-0441-454e-834a-c46697e490c5",
        "outputId": "658ecb66-5754-49a2-af12-a7118bc858c8"
      },
      "outputs": [
        {
          "output_type": "stream",
          "name": "stdout",
          "text": [
            "[[0. 0. 0. ... 0. 0. 0.]\n",
            " [0. 0. 0. ... 0. 0. 0.]\n",
            " [0. 0. 0. ... 0. 0. 0.]\n",
            " ...\n",
            " [0. 0. 0. ... 0. 0. 0.]\n",
            " [0. 0. 0. ... 0. 0. 0.]\n",
            " [0. 0. 0. ... 0. 0. 0.]]\n"
          ]
        }
      ],
      "source": [
        "print(model.l1.weight.grad.clone().detach().numpy())"
      ]
    },
    {
      "cell_type": "code",
      "execution_count": null,
      "id": "58a5cf25-00e9-4a2f-a153-18847a473570",
      "metadata": {
        "colab": {
          "base_uri": "https://localhost:8080/"
        },
        "id": "58a5cf25-00e9-4a2f-a153-18847a473570",
        "outputId": "717316cb-efa5-40f5-ee68-ee04240918e8"
      },
      "outputs": [
        {
          "output_type": "stream",
          "name": "stdout",
          "text": [
            "Epoch 1/10, Loss: 43.1978, Accuracy : 0.5680\n",
            "Epoch 2/10, Loss: 43.1978, Accuracy : 0.5680\n",
            "Epoch 3/10, Loss: 43.1978, Accuracy : 0.5680\n",
            "Epoch 4/10, Loss: 43.1978, Accuracy : 0.5680\n",
            "Epoch 5/10, Loss: 43.1978, Accuracy : 0.5680\n",
            "Epoch 6/10, Loss: 43.1978, Accuracy : 0.5680\n",
            "Epoch 7/10, Loss: 43.1978, Accuracy : 0.5680\n",
            "Epoch 8/10, Loss: 43.1978, Accuracy : 0.5680\n",
            "Epoch 9/10, Loss: 43.1978, Accuracy : 0.5680\n",
            "Epoch 10/10, Loss: 43.1978, Accuracy : 0.5680\n"
          ]
        },
        {
          "output_type": "execute_result",
          "data": {
            "text/plain": [
              "array([[0., 0., 0., ..., 0., 0., 0.],\n",
              "       [0., 0., 0., ..., 0., 0., 0.],\n",
              "       [0., 0., 0., ..., 0., 0., 0.],\n",
              "       ...,\n",
              "       [0., 0., 0., ..., 0., 0., 0.],\n",
              "       [0., 0., 0., ..., 0., 0., 0.],\n",
              "       [0., 0., 0., ..., 0., 0., 0.]], dtype=float32)"
            ]
          },
          "metadata": {},
          "execution_count": 47
        }
      ],
      "source": [
        "for epoch in range(epochs):\n",
        "    model.eval()\n",
        "    running_loss = 0.0\n",
        "    total = 0\n",
        "    correct = 0\n",
        "    for inputs, labels in train_loader:\n",
        "        optimizer.zero_grad()\n",
        "\n",
        "        # Forward pass\n",
        "        outputs = model(inputs)\n",
        "        loss = loss_fn(outputs, labels)\n",
        "        _, predicted = outputs.max(1)\n",
        "        total += labels.size(0)\n",
        "        correct += predicted.eq(labels).sum().item()\n",
        "        running_loss += loss.item()\n",
        "    accu=correct/total\n",
        "    # Print the average loss for each epoch\n",
        "    print(f\"Epoch {epoch + 1}/{epochs}, Loss: {running_loss / len(train_loader):.4f}, Accuracy : {accu:.4f}\")\n",
        "\n",
        "# Gradient values after each epoch\n",
        "# Showing the last gradient value for the first layer after the final epoch"
      ]
    },
    {
      "cell_type": "code",
      "source": [
        "regularizer\n",
        "dropout\n",
        "batchnorm\n",
        "model complexity\n",
        "decrease sample size"
      ],
      "metadata": {
        "id": "H8RF-wA4VYff"
      },
      "id": "H8RF-wA4VYff",
      "execution_count": null,
      "outputs": []
    }
  ],
  "metadata": {
    "kernelspec": {
      "display_name": "Python 3 (ipykernel)",
      "language": "python",
      "name": "python3"
    },
    "language_info": {
      "codemirror_mode": {
        "name": "ipython",
        "version": 3
      },
      "file_extension": ".py",
      "mimetype": "text/x-python",
      "name": "python",
      "nbconvert_exporter": "python",
      "pygments_lexer": "ipython3",
      "version": "3.11.5"
    },
    "colab": {
      "provenance": []
    }
  },
  "nbformat": 4,
  "nbformat_minor": 5
}