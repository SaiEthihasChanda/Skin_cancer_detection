{
 "cells": [
  {
   "cell_type": "code",
   "execution_count": 1,
   "metadata": {},
   "outputs": [],
   "source": [
    "import numpy as np \n",
    "import matplotlib.pyplot as plt\n",
    "import glob\n",
    "import cv2\n",
    "import os\n",
    "import seaborn as sns\n",
    "import pandas as pd\n",
    "from skimage.filters import sobel\n",
    "from skimage.feature import graycomatrix, graycoprops\n",
    "from skimage.measure import shannon_entropy"
   ]
  },
  {
   "cell_type": "code",
   "execution_count": 2,
   "metadata": {},
   "outputs": [
    {
     "data": {
      "text/plain": [
       "(401059, 55)"
      ]
     },
     "execution_count": 2,
     "metadata": {},
     "output_type": "execute_result"
    }
   ],
   "source": [
    "data = pd.read_csv(\"./train-metadata.csv\", low_memory=False)\n",
    "data.shape"
   ]
  },
  {
   "cell_type": "code",
   "execution_count": 3,
   "metadata": {},
   "outputs": [
    {
     "data": {
      "text/plain": [
       "Index(['isic_id', 'target', 'patient_id', 'age_approx', 'sex',\n",
       "       'anatom_site_general', 'clin_size_long_diam_mm', 'image_type',\n",
       "       'tbp_tile_type', 'tbp_lv_A', 'tbp_lv_Aext', 'tbp_lv_B', 'tbp_lv_Bext',\n",
       "       'tbp_lv_C', 'tbp_lv_Cext', 'tbp_lv_H', 'tbp_lv_Hext', 'tbp_lv_L',\n",
       "       'tbp_lv_Lext', 'tbp_lv_areaMM2', 'tbp_lv_area_perim_ratio',\n",
       "       'tbp_lv_color_std_mean', 'tbp_lv_deltaA', 'tbp_lv_deltaB',\n",
       "       'tbp_lv_deltaL', 'tbp_lv_deltaLB', 'tbp_lv_deltaLBnorm',\n",
       "       'tbp_lv_eccentricity', 'tbp_lv_location', 'tbp_lv_location_simple',\n",
       "       'tbp_lv_minorAxisMM', 'tbp_lv_nevi_confidence', 'tbp_lv_norm_border',\n",
       "       'tbp_lv_norm_color', 'tbp_lv_perimeterMM',\n",
       "       'tbp_lv_radial_color_std_max', 'tbp_lv_stdL', 'tbp_lv_stdLExt',\n",
       "       'tbp_lv_symm_2axis', 'tbp_lv_symm_2axis_angle', 'tbp_lv_x', 'tbp_lv_y',\n",
       "       'tbp_lv_z', 'attribution', 'copyright_license', 'lesion_id',\n",
       "       'iddx_full', 'iddx_1', 'iddx_2', 'iddx_3', 'iddx_4', 'iddx_5',\n",
       "       'mel_mitotic_index', 'mel_thick_mm', 'tbp_lv_dnn_lesion_confidence'],\n",
       "      dtype='object')"
      ]
     },
     "execution_count": 3,
     "metadata": {},
     "output_type": "execute_result"
    }
   ],
   "source": [
    "data.columns"
   ]
  },
  {
   "cell_type": "code",
   "execution_count": 14,
   "metadata": {},
   "outputs": [],
   "source": [
    "def feature_extractor(img,label):\n",
    "    df = {}\n",
    "\n",
    "    GSLM = graycomatrix(img, [1], [0])       \n",
    "    GSLM_Energy = graycoprops(GSLM, 'energy')[0]\n",
    "    df['0'] = GSLM_Energy[0]\n",
    "    GSLM_corr = graycoprops(GSLM, 'correlation')[0]\n",
    "    df['1'] = GSLM_corr[0]       \n",
    "    GSLM_diss = graycoprops(GSLM, 'dissimilarity')[0]\n",
    "    df['2'] = GSLM_diss[0]       \n",
    "    GSLM_hom = graycoprops(GSLM, 'homogeneity')[0]\n",
    "    df['3'] = GSLM_hom[0]       \n",
    "    GSLM_contr = graycoprops(GSLM, 'contrast')[0]\n",
    "    df['4'] = GSLM_contr[0]\n",
    "\n",
    "    GSLM2 = graycomatrix(img, [3], [0])       \n",
    "    GSLM_Energy2 = graycoprops(GSLM2, 'energy')[0]\n",
    "    df['5'] = GSLM_Energy2[0]\n",
    "    GSLM_corr2 = graycoprops(GSLM2, 'correlation')[0]\n",
    "    df['6'] = GSLM_corr2[0]       \n",
    "    GSLM_diss2 = graycoprops(GSLM2, 'dissimilarity')[0]\n",
    "    df['7'] = GSLM_diss2[0]       \n",
    "    GSLM_hom2 = graycoprops(GSLM2, 'homogeneity')[0]\n",
    "    df['8'] = GSLM_hom2[0]       \n",
    "    GSLM_contr2 = graycoprops(GSLM2, 'contrast')[0]\n",
    "    df['9'] = GSLM_contr2[0]\n",
    "\n",
    "    GSLM3 = graycomatrix(img, [5], [0])       \n",
    "    GSLM_Energy3 = graycoprops(GSLM3, 'energy')[0]\n",
    "    df['10'] = GSLM_Energy3[0]\n",
    "    GSLM_corr3 = graycoprops(GSLM3, 'correlation')[0]\n",
    "    df['11'] = GSLM_corr3[0]       \n",
    "    GSLM_diss3 = graycoprops(GSLM3, 'dissimilarity')[0]\n",
    "    df['12'] = GSLM_diss3[0]       \n",
    "    GSLM_hom3 = graycoprops(GSLM3, 'homogeneity')[0]\n",
    "    df['13'] = GSLM_hom3[0]       \n",
    "    GSLM_contr3 = graycoprops(GSLM3, 'contrast')[0]\n",
    "    df['14'] = GSLM_contr3[0]\n",
    "\n",
    "    GSLM4 = graycomatrix(img, [0], [np.pi/4])       \n",
    "    GSLM_Energy4 = graycoprops(GSLM4, 'energy')[0]\n",
    "    df['15'] = GSLM_Energy4[0]\n",
    "    \n",
    "    return df"
   ]
  },
  {
   "cell_type": "code",
   "execution_count": null,
   "metadata": {},
   "outputs": [],
   "source": [
    "features = pd.DataFrame(columns=['isic_id', 'target', 'patient_id', 'age_approx', 'sex',\n",
    "       'anatom_site_general', 'clin_size_long_diam_mm', 'image_type',\n",
    "       'tbp_tile_type', 'tbp_lv_A', 'tbp_lv_Aext', 'tbp_lv_B', 'tbp_lv_Bext',\n",
    "       'tbp_lv_C', 'tbp_lv_Cext', 'tbp_lv_H', 'tbp_lv_Hext', 'tbp_lv_L',\n",
    "       'tbp_lv_Lext', 'tbp_lv_areaMM2', 'tbp_lv_area_perim_ratio',\n",
    "       'tbp_lv_color_std_mean', 'tbp_lv_deltaA', 'tbp_lv_deltaB',\n",
    "       'tbp_lv_deltaL', 'tbp_lv_deltaLB', 'tbp_lv_deltaLBnorm',\n",
    "       'tbp_lv_eccentricity', 'tbp_lv_location', 'tbp_lv_location_simple',\n",
    "       'tbp_lv_minorAxisMM', 'tbp_lv_nevi_confidence', 'tbp_lv_norm_border',\n",
    "       'tbp_lv_norm_color', 'tbp_lv_perimeterMM',\n",
    "       'tbp_lv_radial_color_std_max', 'tbp_lv_stdL', 'tbp_lv_stdLExt',\n",
    "       'tbp_lv_symm_2axis', 'tbp_lv_symm_2axis_angle', 'tbp_lv_x', 'tbp_lv_y',\n",
    "       'tbp_lv_z', 'attribution', 'copyright_license', 'lesion_id',\n",
    "       'iddx_full', 'iddx_1', 'iddx_2', 'iddx_3', 'iddx_4', 'iddx_5',\n",
    "       'mel_mitotic_index', 'mel_thick_mm', 'tbp_lv_dnn_lesion_confidence', '0', '1', '2', '3', '4', '5', '6', '7', '8', '9', '10', '11', '12', '13', '14', '15'])\n",
    "\n",
    "index = 0\n",
    "\n",
    "for row in data.values:\n",
    "    img = cv2.imread(\"./train-image/image/%s.jpg\" %row[0], 0)\n",
    "    img = cv2.resize(img, (800, 800))\n",
    "    temp = list(row)\n",
    "    temp.extend(feature_extractor(img,row[1]).values())\n",
    "    features.loc[index] = temp\n",
    "    index += 1\n",
    "    \n",
    "    if index % 10000 == 0:\n",
    "        print(\"%d, \" %index, end=\"\")"
   ]
  },
  {
   "cell_type": "code",
   "execution_count": 16,
   "metadata": {},
   "outputs": [],
   "source": [
    "features = features.drop(['image_type','tbp_tile_type','attribution','copyright_license','lesion_id','iddx_full','patient_id','isic_id'\n",
    "                 ,\"iddx_1\",\"iddx_2\",\"iddx_3\",\"iddx_4\",\"iddx_5\",\"age_approx\",\"mel_thick_mm\",\"7\",\"10\",\"11\",\"13\",\"14\"],axis = 1)"
   ]
  },
  {
   "cell_type": "code",
   "execution_count": 19,
   "metadata": {},
   "outputs": [
    {
     "data": {
      "text/plain": [
       "Index(['target', 'sex', 'anatom_site_general', 'clin_size_long_diam_mm',\n",
       "       'tbp_lv_A', 'tbp_lv_Aext', 'tbp_lv_B', 'tbp_lv_Bext', 'tbp_lv_C',\n",
       "       'tbp_lv_Cext', 'tbp_lv_H', 'tbp_lv_Hext', 'tbp_lv_L', 'tbp_lv_Lext',\n",
       "       'tbp_lv_areaMM2', 'tbp_lv_area_perim_ratio', 'tbp_lv_color_std_mean',\n",
       "       'tbp_lv_deltaA', 'tbp_lv_deltaB', 'tbp_lv_deltaL', 'tbp_lv_deltaLB',\n",
       "       'tbp_lv_deltaLBnorm', 'tbp_lv_eccentricity', 'tbp_lv_location',\n",
       "       'tbp_lv_location_simple', 'tbp_lv_minorAxisMM',\n",
       "       'tbp_lv_nevi_confidence', 'tbp_lv_norm_border', 'tbp_lv_norm_color',\n",
       "       'tbp_lv_perimeterMM', 'tbp_lv_radial_color_std_max', 'tbp_lv_stdL',\n",
       "       'tbp_lv_stdLExt', 'tbp_lv_symm_2axis', 'tbp_lv_symm_2axis_angle',\n",
       "       'tbp_lv_x', 'tbp_lv_y', 'tbp_lv_z', 'mel_mitotic_index',\n",
       "       'tbp_lv_dnn_lesion_confidence', '0', '1', '2', '3', '4', '5', '6', '8',\n",
       "       '9', '12', '15'],\n",
       "      dtype='object')"
      ]
     },
     "execution_count": 19,
     "metadata": {},
     "output_type": "execute_result"
    }
   ],
   "source": [
    "features.columns"
   ]
  },
  {
   "cell_type": "code",
   "execution_count": null,
   "metadata": {},
   "outputs": [],
   "source": []
  }
 ],
 "metadata": {
  "kernelspec": {
   "display_name": "Python 3",
   "language": "python",
   "name": "python3"
  },
  "language_info": {
   "codemirror_mode": {
    "name": "ipython",
    "version": 3
   },
   "file_extension": ".py",
   "mimetype": "text/x-python",
   "name": "python",
   "nbconvert_exporter": "python",
   "pygments_lexer": "ipython3",
   "version": "3.11.9"
  }
 },
 "nbformat": 4,
 "nbformat_minor": 2
}
